{
 "cells": [
  {
   "cell_type": "markdown",
   "id": "7469f5dc-3245-43e1-acce-46c3ed9b3be5",
   "metadata": {},
   "source": [
    "# Data Science Tools and Ecosystem"
   ]
  },
  {
   "cell_type": "markdown",
   "id": "a7f66e6d-ac58-4e76-9a40-33464b3aad3f",
   "metadata": {},
   "source": [
    "En este cuaderno, se resumen las herramientas y ecosistemas de ciencia de datos."
   ]
  },
  {
   "cell_type": "markdown",
   "id": "c2cdcbf0-3f32-42b6-8481-952a2e30e978",
   "metadata": {},
   "source": [
    "***Objetivos:***\n",
    "* Listar lenguajes populares para Ciencia de Datos\n",
    "* Bibliotecas comúnmente utilizadas por los científicos de datos\n",
    "* Herramientas de Ciencia de Datos\n",
    "* Algunos ejemplos de evaluación de expresiones aritméticas en Python"
   ]
  },
  {
   "cell_type": "markdown",
   "id": "c0d08d5e-b2ab-4556-b7f8-4af831837c1f",
   "metadata": {},
   "source": [
    "Algunos de los lenguajes populares que utilizan los científicos de datos son:"
   ]
  },
  {
   "cell_type": "markdown",
   "id": "ad0ed853-a78c-4464-a31a-707d911848c4",
   "metadata": {},
   "source": [
    "* R\n",
    "* Python\n",
    "* SQL\n",
    "* Java"
   ]
  },
  {
   "cell_type": "markdown",
   "id": "a32a6b9a-aa16-4207-bf96-e2de514de08a",
   "metadata": {},
   "source": [
    "Algunas de las bibliotecas comúnmente utilizadas por los científicos de datos incluyen:"
   ]
  },
  {
   "cell_type": "markdown",
   "id": "33e6a688-198c-4db7-82c6-238c9a278db6",
   "metadata": {},
   "source": [
    "* NumPy\n",
    "* Pandas\n",
    "* Matplotlib\n",
    "* Seaborn"
   ]
  },
  {
   "cell_type": "markdown",
   "id": "a794d947-86cc-4cda-b012-f1955f5d01b0",
   "metadata": {},
   "source": [
    "| Herramientas de Ciencia de Datos |\n",
    "| ---------------------------------|\n",
    "|            Python                |\n",
    "|            Git                   |\n",
    "|            Jupyter Notebook      |\n",
    "|            Apache Spark          |\n"
   ]
  },
  {
   "cell_type": "markdown",
   "id": "75807fa0-32e0-4128-8f7a-f62e1e048b50",
   "metadata": {},
   "source": [
    "### A continuación, se presentan algunos ejemplos de evaluación de expresiones aritméticas en Python"
   ]
  },
  {
   "cell_type": "markdown",
   "id": "7af19fb4-ef77-4d43-9696-a3eeb89316de",
   "metadata": {},
   "source": [
    "Esta es una expresión aritmética simple para multiplicar y luego sumar enteros"
   ]
  },
  {
   "cell_type": "code",
   "execution_count": 1,
   "id": "75e76516-b2ab-49dd-89ff-c3cd8a9fb4dd",
   "metadata": {},
   "outputs": [
    {
     "data": {
      "text/plain": [
       "17"
      ]
     },
     "execution_count": 1,
     "metadata": {},
     "output_type": "execute_result"
    }
   ],
   "source": [
    "(3*4)+5"
   ]
  },
  {
   "cell_type": "markdown",
   "id": "00624fef-0b03-4c1e-8fb5-3ccb2723c6b6",
   "metadata": {},
   "source": [
    "Esto convertirá 200 minutos a horas dividiendo por 60"
   ]
  },
  {
   "cell_type": "code",
   "execution_count": 2,
   "id": "401f22c5-5f3a-464d-bea8-996c3c2b76ea",
   "metadata": {},
   "outputs": [
    {
     "name": "stdout",
     "output_type": "stream",
     "text": [
      "200 minutos son equivalentes a 3.33 horas.\n"
     ]
    }
   ],
   "source": [
    "# Conversión de minutos a horas\n",
    "minutos = 200\n",
    "horas = minutos / 60\n",
    "\n",
    "print(f\"{minutos} minutos son equivalentes a {horas:.2f} horas.\")"
   ]
  },
  {
   "cell_type": "markdown",
   "id": "f527b0ef-97f3-43f0-b306-0be0332e44f4",
   "metadata": {},
   "source": [
    "## Autor\n",
    "Vicente José Fernández Illán"
   ]
  },
  {
   "cell_type": "code",
   "execution_count": null,
   "id": "2ee1aca7-7f12-450c-b7e1-fd4678baf8b6",
   "metadata": {},
   "outputs": [],
   "source": []
  }
 ],
 "metadata": {
  "kernelspec": {
   "display_name": "Python 3 (ipykernel)",
   "language": "python",
   "name": "python3"
  },
  "language_info": {
   "codemirror_mode": {
    "name": "ipython",
    "version": 3
   },
   "file_extension": ".py",
   "mimetype": "text/x-python",
   "name": "python",
   "nbconvert_exporter": "python",
   "pygments_lexer": "ipython3",
   "version": "3.12.8"
  }
 },
 "nbformat": 4,
 "nbformat_minor": 5
}
